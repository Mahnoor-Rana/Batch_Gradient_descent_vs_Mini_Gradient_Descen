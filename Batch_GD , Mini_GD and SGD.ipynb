{
 "cells": [
  {
   "cell_type": "code",
   "execution_count": 148,
   "id": "2c91fb64",
   "metadata": {},
   "outputs": [],
   "source": [
    "import pandas as pd \n",
    "import numpy as np\n",
    "import matplotlib.pyplot as plt"
   ]
  },
  {
   "cell_type": "code",
   "execution_count": 149,
   "id": "07c83c2e",
   "metadata": {},
   "outputs": [
    {
     "data": {
      "text/html": [
       "<div>\n",
       "<style scoped>\n",
       "    .dataframe tbody tr th:only-of-type {\n",
       "        vertical-align: middle;\n",
       "    }\n",
       "\n",
       "    .dataframe tbody tr th {\n",
       "        vertical-align: top;\n",
       "    }\n",
       "\n",
       "    .dataframe thead th {\n",
       "        text-align: right;\n",
       "    }\n",
       "</style>\n",
       "<table border=\"1\" class=\"dataframe\">\n",
       "  <thead>\n",
       "    <tr style=\"text-align: right;\">\n",
       "      <th></th>\n",
       "      <th>area</th>\n",
       "      <th>bedroom</th>\n",
       "      <th>price</th>\n",
       "    </tr>\n",
       "  </thead>\n",
       "  <tbody>\n",
       "    <tr>\n",
       "      <th>0</th>\n",
       "      <td>2600</td>\n",
       "      <td>3</td>\n",
       "      <td>550000</td>\n",
       "    </tr>\n",
       "    <tr>\n",
       "      <th>1</th>\n",
       "      <td>3000</td>\n",
       "      <td>4</td>\n",
       "      <td>565000</td>\n",
       "    </tr>\n",
       "    <tr>\n",
       "      <th>2</th>\n",
       "      <td>3200</td>\n",
       "      <td>3</td>\n",
       "      <td>610000</td>\n",
       "    </tr>\n",
       "    <tr>\n",
       "      <th>3</th>\n",
       "      <td>3600</td>\n",
       "      <td>3</td>\n",
       "      <td>595000</td>\n",
       "    </tr>\n",
       "    <tr>\n",
       "      <th>4</th>\n",
       "      <td>4000</td>\n",
       "      <td>5</td>\n",
       "      <td>760000</td>\n",
       "    </tr>\n",
       "  </tbody>\n",
       "</table>\n",
       "</div>"
      ],
      "text/plain": [
       "   area  bedroom   price\n",
       "0  2600        3  550000\n",
       "1  3000        4  565000\n",
       "2  3200        3  610000\n",
       "3  3600        3  595000\n",
       "4  4000        5  760000"
      ]
     },
     "execution_count": 149,
     "metadata": {},
     "output_type": "execute_result"
    }
   ],
   "source": [
    "df = pd.read_excel(\"price.xlsx\")\n",
    "df.head()"
   ]
  },
  {
   "cell_type": "code",
   "execution_count": 150,
   "id": "692f522b",
   "metadata": {},
   "outputs": [],
   "source": [
    "from sklearn import preprocessing\n",
    "x_scaled = preprocessing.MinMaxScaler()\n",
    "y_scaled = preprocessing.MinMaxScaler()\n",
    "Scaled_X = x_scaled.fit_transform(df.drop('price',axis ='columns'))"
   ]
  },
  {
   "cell_type": "code",
   "execution_count": 151,
   "id": "bf86d2f3",
   "metadata": {},
   "outputs": [],
   "source": [
    "Scaled_y = y_scaled.fit_transform(df['price'].values.reshape(df.shape[0],1))"
   ]
  },
  {
   "cell_type": "markdown",
   "id": "d949fc27",
   "metadata": {},
   "source": [
    "## BATCH GRADIENT DESCENT"
   ]
  },
  {
   "cell_type": "code",
   "execution_count": 152,
   "id": "42c7fa61",
   "metadata": {},
   "outputs": [],
   "source": [
    "def batch_gd(X, y_true , epochs, learning_rate = 0.01):\n",
    "    no_of_fea = X.shape[1]\n",
    "    w = np.ones(shape=(no_of_fea))\n",
    "    b = 0\n",
    "    total_sam = X.shape[0]\n",
    "    c_list =[]\n",
    "    e_list = []\n",
    "    \n",
    "    for i in range(epochs):\n",
    "        y_pred = np.dot(w,Scaled_X.T) + b#w1*area +w2*bedrooms +b\n",
    "        \n",
    "        w_grad = -(2/total_sam)*(X.T.dot(y_true-y_pred))\n",
    "        b_grad = -(2/total_sam)*np.sum(y_true-y_pred)\n",
    "        \n",
    "        w = w -learning_rate*w_grad\n",
    "        b = b -learning_rate* b_grad\n",
    "        \n",
    "        cost = np.mean(np.square(y_pred-y_true))\n",
    "        if i%10==0 :\n",
    "            c_list.append(cost)\n",
    "            e_list.append(i)\n",
    "            \n",
    "    return w, b , cost, c_list, e_list\n",
    "\n",
    "\n",
    "                \n",
    "\n",
    "        \n",
    "        "
   ]
  },
  {
   "cell_type": "code",
   "execution_count": 153,
   "id": "1d5974eb",
   "metadata": {},
   "outputs": [],
   "source": [
    "w, b , cost, c_list, e_list = batch_gd(Scaled_X,Scaled_y.reshape(Scaled_y.shape[0],),500)"
   ]
  },
  {
   "cell_type": "code",
   "execution_count": 154,
   "id": "d84197e2",
   "metadata": {},
   "outputs": [
    {
     "data": {
      "text/plain": [
       "(array([0.58867904, 0.57701192]), -0.14323766628236548, 0.011394412598084299)"
      ]
     },
     "execution_count": 154,
     "metadata": {},
     "output_type": "execute_result"
    }
   ],
   "source": [
    "w, b , cost"
   ]
  },
  {
   "cell_type": "code",
   "execution_count": 155,
   "id": "05b08460",
   "metadata": {},
   "outputs": [
    {
     "data": {
      "text/plain": [
       "[<matplotlib.lines.Line2D at 0x290065b9100>]"
      ]
     },
     "execution_count": 155,
     "metadata": {},
     "output_type": "execute_result"
    },
    {
     "data": {
      "image/png": "[encoded data removed]",
      "text/plain": [
       "<Figure size 432x288 with 1 Axes>"
      ]
     },
     "metadata": {
      "needs_background": "light"
     },
     "output_type": "display_data"
    }
   ],
   "source": [
    "## plotting \n",
    "plt.xlabel('epoch')\n",
    "plt.ylabel('cost')\n",
    "plt.plot(e_list,c_list)"
   ]
  },
  {
   "cell_type": "code",
   "execution_count": 156,
   "id": "b31c1b67",
   "metadata": {},
   "outputs": [],
   "source": [
    "def predict(area,bedroom,w,b):\n",
    "    scaled_x = x_scaled.transform([[area,bedroom]])[0]\n",
    "    scaled_price = w[0]*scaled_x[0]+ w[1]*scaled_x[1] + b\n",
    "    return y_scaled.inverse_transform([[scaled_price]])[0][0]\n",
    "    "
   ]
  },
  {
   "cell_type": "code",
   "execution_count": 157,
   "id": "4537344b",
   "metadata": {},
   "outputs": [
    {
     "data": {
      "text/plain": [
       "512758.206766585"
      ]
     },
     "execution_count": 157,
     "metadata": {},
     "output_type": "execute_result"
    }
   ],
   "source": [
    "predict(2600,3,w,b)"
   ]
  },
  {
   "cell_type": "code",
   "execution_count": 158,
   "id": "85aea175",
   "metadata": {},
   "outputs": [
    {
     "data": {
      "text/plain": [
       "10"
      ]
     },
     "execution_count": 158,
     "metadata": {},
     "output_type": "execute_result"
    }
   ],
   "source": [
    "import random \n",
    "random.randint(7,10)"
   ]
  },
  {
   "cell_type": "code",
   "execution_count": 159,
   "id": "aafe990e",
   "metadata": {},
   "outputs": [],
   "source": [
    "def Stochastic_gd(X, y_true , epochs, learning_rate = 0.01):\n",
    "    no_of_fea = X.shape[1]\n",
    "    w = np.ones(shape=(no_of_fea))\n",
    "    b = 0\n",
    "    total_sam = X.shape[0]\n",
    "    c_list =[]\n",
    "    e_list = []\n",
    "    \n",
    "    for i in range(epochs):\n",
    "        random_index = random.randint(0,total_sam-1)\n",
    "        x_rand = X[random_index]\n",
    "        y_rand = y_true[random_index]\n",
    "        y_pred = np.dot(w,Scaled_X.T) + b#w1*area +w2*bedrooms +b\n",
    "        \n",
    "        w_grad = -(2/total_sam)*(X.T.dot(y_true-y_pred))\n",
    "        b_grad = -(2/total_sam)*np.sum(y_true-y_pred)\n",
    "        \n",
    "        w = w -learning_rate*w_grad\n",
    "        b = b -learning_rate* b_grad\n",
    "        \n",
    "        cost = np.mean(np.square(y_pred-y_true))\n",
    "        if i%100==0 :\n",
    "            c_list.append(cost)\n",
    "            e_list.append(i)\n",
    "            \n",
    "    return w, b , cost, c_list, e_list\n"
   ]
  },
  {
   "cell_type": "code",
   "execution_count": 160,
   "id": "e0515266",
   "metadata": {},
   "outputs": [],
   "source": [
    "w_sgd,b_sgd,cost_sgd,e_list_sgd,c_list_sgd = Stochastic_gd(Scaled_X,Scaled_y.reshape(Scaled_y.shape[0],),1000)"
   ]
  },
  {
   "cell_type": "code",
   "execution_count": 161,
   "id": "a85bb14b",
   "metadata": {},
   "outputs": [
    {
     "data": {
      "text/plain": [
       "(array([0.55446305, 0.52884354]), -0.10155591579819316, 0.010103092387144123)"
      ]
     },
     "execution_count": 161,
     "metadata": {},
     "output_type": "execute_result"
    }
   ],
   "source": [
    "w_sgd,b_sgd,cost_sgd"
   ]
  },
  {
   "cell_type": "code",
   "execution_count": 162,
   "id": "9cb1edcd",
   "metadata": {},
   "outputs": [
    {
     "data": {
      "text/plain": [
       "(array([0.58867904, 0.57701192]), -0.14323766628236548, 0.011394412598084299)"
      ]
     },
     "execution_count": 162,
     "metadata": {},
     "output_type": "execute_result"
    }
   ],
   "source": [
    "w,b,cost"
   ]
  },
  {
   "cell_type": "code",
   "execution_count": 165,
   "id": "7002b917",
   "metadata": {},
   "outputs": [
    {
     "data": {
      "text/plain": [
       "523595.46189246984"
      ]
     },
     "execution_count": 165,
     "metadata": {},
     "output_type": "execute_result"
    }
   ],
   "source": [
    "## prediction \n",
    "predict(2600,3,w_sgd,b_sgd)"
   ]
  },
  {
   "cell_type": "code",
   "execution_count": 187,
   "id": "f3e32f03",
   "metadata": {},
   "outputs": [
    {
     "data": {
      "text/plain": [
       "[<matplotlib.lines.Line2D at 0x290020a0100>]"
      ]
     },
     "execution_count": 187,
     "metadata": {},
     "output_type": "execute_result"
    },
    {
     "data": {
      "image/png": "[encoded data removed]",
      "text/plain": [
       "<Figure size 432x288 with 1 Axes>"
      ]
     },
     "metadata": {
      "needs_background": "light"
     },
     "output_type": "display_data"
    }
   ],
   "source": [
    "## plotting \n",
    "plt.xlabel('epoch')\n",
    "plt.ylabel('cost')\n",
    "plt.plot(e_list_sgd,c_list_sgd)"
   ]
  },
  {
   "cell_type": "markdown",
   "id": "e1211f80",
   "metadata": {},
   "source": [
    "## MINI BATCH GRADIENT DESCENT"
   ]
  },
  {
   "cell_type": "code",
   "execution_count": 195,
   "id": "92c61977",
   "metadata": {},
   "outputs": [],
   "source": [
    "def mini_batch_gd(X, y_true, epochs = 100, batch_size = 5, learning_rate = 0.01):\n",
    "    no_of_fea = X.shape[1]\n",
    "    w = np.ones(shape=(no_of_fea))\n",
    "    b = 0\n",
    "    total_sam = X.shape[0]\n",
    "    \n",
    "    if batch_size > total_sam:\n",
    "        batch_size = total_sam\n",
    "    cost_list =[]\n",
    "    epoch_list = []\n",
    "    \n",
    "    \n",
    "    num_batches = int(total_sam/batch_size)\n",
    "    for i in range(epochs):\n",
    "        random_indices = np.random.permutation(total_sam)\n",
    "        x_ind = X[random_indices]\n",
    "        y_ind = y_true[random_indices]\n",
    "        \n",
    "        for j in range(0,total_sam,batch_size):\n",
    "            xj = x_ind[j:j+batch_size]\n",
    "            yj = y_ind[j:j+batch_size]\n",
    "            y_pred = np.dot(w,xj.T) + b#w1*area +w2*bedrooms +b\n",
    "\n",
    "        \n",
    "            w_grad = -(2/len(xj))*(xj.T.dot(yj- y_pred))\n",
    "            b_grad = -(2/len(xj))*np.sum(yj-y_pred)\n",
    "        \n",
    "            w = w -learning_rate*w_grad\n",
    "            b = b -learning_rate* b_grad\n",
    "        \n",
    "            cost = np.mean(np.square(yj-y_pred))\n",
    "    if i%10==0 :\n",
    "        c_list.append(cost)\n",
    "        e_list.append(i)\n",
    "            \n",
    "    return w, b , cost, cost_list, epoch_list\n"
   ]
  },
  {
   "cell_type": "code",
   "execution_count": 196,
   "id": "7a6b8d4c",
   "metadata": {},
   "outputs": [],
   "source": [
    "w, b , cost, c_list, e_list = mini_batch_gd(Scaled_X,Scaled_y.reshape(Scaled_y.shape[0],),epochs = 120,batch_size = 5)"
   ]
  },
  {
   "cell_type": "code",
   "execution_count": 197,
   "id": "c14f6f00",
   "metadata": {},
   "outputs": [
    {
     "data": {
      "text/plain": [
       "(array([0.64952934, 0.67070189]), -0.22257252969830563, 0.0014808493849206843)"
      ]
     },
     "execution_count": 197,
     "metadata": {},
     "output_type": "execute_result"
    }
   ],
   "source": [
    "w, b , cost"
   ]
  },
  {
   "cell_type": "code",
   "execution_count": 198,
   "id": "d9bb392d",
   "metadata": {},
   "outputs": [
    {
     "data": {
      "text/plain": [
       "492131.1422784406"
      ]
     },
     "execution_count": 198,
     "metadata": {},
     "output_type": "execute_result"
    }
   ],
   "source": [
    "predict(2600,3,w,b)"
   ]
  },
  {
   "cell_type": "code",
   "execution_count": 200,
   "id": "22ca67c9",
   "metadata": {},
   "outputs": [
    {
     "data": {
      "text/plain": [
       "[<matplotlib.lines.Line2D at 0x29004cff6a0>]"
      ]
     },
     "execution_count": 200,
     "metadata": {},
     "output_type": "execute_result"
    },
    {
     "data": {
      "image/png": "[encoded data removed]",
      "text/plain": [
       "<Figure size 432x288 with 1 Axes>"
      ]
     },
     "metadata": {
      "needs_background": "light"
     },
     "output_type": "display_data"
    }
   ],
   "source": [
    "plt.xlabel(\"epoch\")\n",
    "plt.ylabel(\"cost\")\n",
    "plt.plot(epoch_list,cost_list)"
   ]
  }
 ],
 "metadata": {
  "kernelspec": {
   "display_name": "Python 3",
   "language": "python",
   "name": "python3"
  },
  "language_info": {
   "codemirror_mode": {
    "name": "ipython",
    "version": 3
   },
   "file_extension": ".py",
   "mimetype": "text/x-python",
   "name": "python",
   "nbconvert_exporter": "python",
   "pygments_lexer": "ipython3",
   "version": "3.8.8"
  }
 },
 "nbformat": 4,
 "nbformat_minor": 5
}
